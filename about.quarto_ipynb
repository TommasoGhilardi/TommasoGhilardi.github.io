{
  "cells": [
    {
      "cell_type": "markdown",
      "metadata": {},
      "source": [
        "---\n",
        "title: Tommaso Ghilardi\n",
        "image: Tommaso.jpg\n",
        "\n",
        "about:\n",
        "  id: hero-heading\n",
        "  template: jolla\n",
        "---\n",
        "\n",
        "```{css}\n",
        "#| echo: false\n",
        "p {\n",
        "  text-align: justify\n",
        "}\n",
        "```\n",
        "\n",
        "\n",
        "\n",
        "\n",
        "### This content appears above the formatted about page content.\n",
        "\n",
        ":::{#hero-heading}\n",
        "\n",
        "I hold a Ph.D. in developmental science with a strong focus on analyzing complex, real-world data, exploring the stories behind the data, and deriving actionable insights through advanced statistical analysis and computational modeling.\n",
        "\n",
        "I am passionate about sharing knowledge and translating detailed analyses into clear, accessible insights for diverse audiences. To further this, I created [**DevStart**](https://tommasoghilardi.github.io/DevStart), a website where I share simple tutorials to help others understand and apply what I have learned over the years.\n",
        "\n",
        ":::\n",
        "\n",
        "# Testing"
      ],
      "id": "d1bcd12f"
    }
  ],
  "metadata": {
    "kernelspec": {
      "name": "base",
      "language": "python",
      "display_name": "base",
      "path": "C:\\Users\\tomma\\AppData\\Roaming\\jupyter\\kernels\\base"
    }
  },
  "nbformat": 4,
  "nbformat_minor": 5
}